{
 "cells": [
  {
   "cell_type": "code",
   "execution_count": null,
   "metadata": {},
   "outputs": [],
   "source": [
    "from torchvision import datasets, transforms, models\n",
    "import torch.nn as nn\n",
    "import torch.nn.functional as F\n",
    "import torch\n",
    "import matplotlib.pyplot as plt\n",
    "from torchinfo import summary"
   ]
  },
  {
   "cell_type": "markdown",
   "metadata": {},
   "source": [
    "## Mise en place du data train and test"
   ]
  },
  {
   "cell_type": "code",
   "execution_count": null,
   "metadata": {},
   "outputs": [],
   "source": [
    "import os \n",
    "\n",
    "batch_size = 10\n",
    "in_channel = 3\n",
    "data_dir = ''\n",
    "\n",
    "classes = sorted(os.listdir(data_dir))\n",
    "num_classes = len(classes)\n",
    "num_files = len(os.listdir(data_dir + '/' + classes[0]))\n"
   ]
  },
  {
   "cell_type": "code",
   "execution_count": null,
   "metadata": {},
   "outputs": [],
   "source": [
    "trfs = transforms.Compose(\n",
    "    [\n",
    "        transforms.Resize(640),\n",
    "        transforms.CenterCrop(640),\n",
    "        transforms.ToTensor(), \n",
    "        transforms.Normalize(mean=[0.485, 0.456, 0.406],\n",
    "                          std=[0.229, 0.224, 0.225])\n",
    "    ])\n",
    "\n",
    "dataset = datasets.ImageFolder(data_dir, transform=trfs)\n",
    "data_train, data_test = torch.utils.data.random_split(dataset,[num_files,len(dataset)-num_files])\n",
    "\n",
    "train_loader = torch.utils.data.DataLoader(\n",
    "    data_train, \n",
    "    batch_size=batch_size,\n",
    "    shuffle=True\n",
    "    )\n",
    "test_loader = torch.utils.data.DataLoader(\n",
    "    data_test, \n",
    "    batch_size=batch_size,\n",
    "    shuffle=True\n",
    "    )\n",
    "\n",
    "from tools.utils import display_dataset\n",
    "\n",
    "display_dataset(data_train, n=num_classes, classes=classes)\n",
    "\n"
   ]
  },
  {
   "cell_type": "code",
   "execution_count": null,
   "metadata": {},
   "outputs": [],
   "source": [
    "from tools.models import EfficientNet, Dense, OneCNN, MultiLayerCNN, LeNet\n",
    "\n",
    "model = models.efficientnet_v2_s(pretrained=True)\n",
    "\n",
    "#Transfer learning \n",
    "for x in model.parameters():\n",
    "    x.requires_grad = False\n",
    "\n",
    "model.classifier = nn.Linear(1280, num_classes)\n",
    "summary(model, (1, 3, 640, 640))\n"
   ]
  },
  {
   "cell_type": "markdown",
   "metadata": {},
   "source": [
    "### Mise en place des modèles"
   ]
  },
  {
   "cell_type": "markdown",
   "metadata": {},
   "source": [
    "### Training model"
   ]
  },
  {
   "cell_type": "code",
   "execution_count": null,
   "metadata": {},
   "outputs": [],
   "source": [
    "num_epochs = 10\n",
    "learning_rate = 0.001\n",
    "loss_fn = nn.CrossEntropyLoss()\n",
    "optimizer = torch.optim.Adam(model.parameters(), lr=learning_rate)\n",
    "\n",
    "import wandb\n",
    "\n",
    "wandb.login(key=\"\", host=\"\")\n",
    "wandb.init(project=\"efficientnet_v2_s\")\n",
    "#wandb.config({\"epochs\": num_epochs, \"learning_rate\": learning_rate, \"batch_size\": batch_size})\n",
    "wandb.watch(model)\n",
    "\n",
    "from tools.utils import train\n",
    "\n",
    "history = train(model, train_loader, test_loader, optimizer, loss_fn, True, num_epochs)"
   ]
  },
  {
   "cell_type": "code",
   "execution_count": null,
   "metadata": {},
   "outputs": [],
   "source": [
    "x_axis = list(range(1, num_epochs+1))\n",
    "\n",
    "fig = plt.figure(figsize=(15, 5))\n",
    "ax = plt.subplot()\n",
    "ax.set(ylim=(0, 1))\n",
    "plt.plot(x_axis, history['train_acc'], label='train_acc', color='blue')\n",
    "plt.plot(x_axis, history['val_acc'], label='val_acc', color='orange')\n",
    "plt.legend(loc='upper left')\n",
    "\n",
    "fig = plt.figure(figsize=(15, 5))\n",
    "ax = plt.subplot()\n",
    "ax.set(ylim=(0, 2))\n",
    "plt.plot(x_axis, history['train_loss'], label='train_loss', color='blue')\n",
    "plt.plot(x_axis, history['val_loss'], label='val_loss', color='orange')\n",
    "plt.legend(loc='upper left')"
   ]
  },
  {
   "cell_type": "code",
   "execution_count": null,
   "metadata": {},
   "outputs": [],
   "source": [
    "torch.save(model, 'model.pt')"
   ]
  },
  {
   "cell_type": "code",
   "execution_count": null,
   "metadata": {},
   "outputs": [],
   "source": [
    "torch.load('model.pt')"
   ]
  }
 ],
 "metadata": {
  "kernelspec": {
   "display_name": "Python 3.10.4 ('coca': conda)",
   "language": "python",
   "name": "python3"
  },
  "language_info": {
   "codemirror_mode": {
    "name": "ipython",
    "version": 3
   },
   "file_extension": ".py",
   "mimetype": "text/x-python",
   "name": "python",
   "nbconvert_exporter": "python",
   "pygments_lexer": "ipython3",
   "version": "3.10.4"
  },
  "orig_nbformat": 4,
  "vscode": {
   "interpreter": {
    "hash": "29a5b09ad6e4d6c38641d9feda625ffef2813f5623ee843476818c93a78b8f95"
   }
  }
 },
 "nbformat": 4,
 "nbformat_minor": 2
}
